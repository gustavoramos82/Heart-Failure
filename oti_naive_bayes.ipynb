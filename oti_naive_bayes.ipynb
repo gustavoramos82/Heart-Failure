{
  "nbformat": 4,
  "nbformat_minor": 0,
  "metadata": {
    "colab": {
      "name": "oti naive bayes.ipynb",
      "provenance": []
    },
    "kernelspec": {
      "name": "python3",
      "display_name": "Python 3"
    },
    "language_info": {
      "name": "python"
    }
  },
  "cells": [
    {
      "cell_type": "markdown",
      "source": [
        "# Fazendo otimização com naive bayes\n",
        "\n",
        "Nesse notebook vamos tentar fazer otimização de hiperparametros com naive bayes e comparar os resultados sem feito a otimização"
      ],
      "metadata": {
        "id": "HxM1p6md-9n7"
      }
    },
    {
      "cell_type": "code",
      "execution_count": 2,
      "metadata": {
        "id": "pLjUBKZz-4Sq"
      },
      "outputs": [],
      "source": [
        "# importando os módulos\n",
        "import numpy as np\n",
        "import pandas as pd\n",
        "from sklearn.model_selection import GridSearchCV , RandomizedSearchCV, cross_validate\n",
        "from sklearn.preprocessing import StandardScaler\n",
        "from imblearn.under_sampling import RandomUnderSampler\n",
        "from sklearn.naive_bayes import GaussianNB"
      ]
    },
    {
      "cell_type": "code",
      "source": [
        "heart = pd.read_csv('heart_failure_clinical_records_dataset.csv')"
      ],
      "metadata": {
        "id": "tZQ0kG4r_Z99"
      },
      "execution_count": 3,
      "outputs": []
    },
    {
      "cell_type": "code",
      "source": [
        "x = heart.drop(['DEATH_EVENT'],axis=1).values\n",
        "y = heart.DEATH_EVENT.values\n",
        "\n",
        "x_std = StandardScaler().fit_transform(x)"
      ],
      "metadata": {
        "id": "4grD6j0p_ii4"
      },
      "execution_count": 4,
      "outputs": []
    },
    {
      "cell_type": "code",
      "source": [
        "nm = RandomUnderSampler(random_state=10)\n",
        "\n",
        "x_nm , y_nm = nm.fit_resample(x_std,y)"
      ],
      "metadata": {
        "id": "0xzkLj4X_noy"
      },
      "execution_count": 5,
      "outputs": []
    },
    {
      "cell_type": "markdown",
      "source": [
        "## Aplicando o Grid Search"
      ],
      "metadata": {
        "id": "x2ojE5iK_q8V"
      }
    },
    {
      "cell_type": "code",
      "source": [
        "parametros = {'var_smoothing':np.linspace(0, 10)}"
      ],
      "metadata": {
        "id": "_azf8-gd_pJg"
      },
      "execution_count": 29,
      "outputs": []
    },
    {
      "cell_type": "code",
      "source": [
        "grid_search = GridSearchCV(estimator=GaussianNB(),param_grid=parametros).fit(x_nm,y_nm)"
      ],
      "metadata": {
        "id": "fU1tak-kBPPd"
      },
      "execution_count": 30,
      "outputs": []
    },
    {
      "cell_type": "code",
      "source": [
        "melhores_parametros = grid_search.best_params_\n",
        "melhor_resultado = grid_search.best_score_\n",
        "print(melhores_parametros)\n",
        "print(melhor_resultado)"
      ],
      "metadata": {
        "colab": {
          "base_uri": "https://localhost:8080/"
        },
        "id": "MOqaNzp9BxOR",
        "outputId": "1642531e-4c37-45a0-e47b-b9d6d20e8e50"
      },
      "execution_count": 31,
      "outputs": [
        {
          "output_type": "stream",
          "name": "stdout",
          "text": [
            "{'var_smoothing': 0.0}\n",
            "0.6920377867746288\n"
          ]
        }
      ]
    },
    {
      "cell_type": "code",
      "source": [
        "na = GaussianNB(var_smoothing=0.02040816326530612)\n",
        "\n",
        "nome_metricas = ['accuracy', 'precision_macro', 'recall_macro']\n",
        "\n",
        "metricas_ran = cross_validate(na,x_nm, y_nm, cv=7, scoring=nome_metricas)\n",
        "for met in metricas_ran:\n",
        "  print(f'-{met}')\n",
        "  print(f\"-- {metricas_ran[met]}\")\n",
        "  media = np.mean(metricas_ran[met])\n",
        "  desvio = np.std(metricas_ran[met])\n",
        "  print(f'Média do {met}: {media}')\n",
        "  print(f'Desvio {desvio}')\n",
        "  print(f'Intervalo [{(media-(2*desvio)):.3f},{(media+(2*desvio)):.3f}]')\n",
        "  print('-*-'*20)"
      ],
      "metadata": {
        "colab": {
          "base_uri": "https://localhost:8080/"
        },
        "id": "Y_oCSiqMCuHe",
        "outputId": "89d1f9f4-b2a2-4c37-f3ca-286df19d292c"
      },
      "execution_count": 25,
      "outputs": [
        {
          "output_type": "stream",
          "name": "stdout",
          "text": [
            "-fit_time\n",
            "-- [0.00233006 0.00084233 0.00075698 0.00082135 0.0007267  0.00072408\n",
            " 0.00073552]\n",
            "Média do fit_time: 0.0009910038539341518\n",
            "Desvio 0.000548389118121634\n",
            "Intervalo [-0.000,0.002]\n",
            "-*--*--*--*--*--*--*--*--*--*--*--*--*--*--*--*--*--*--*--*-\n",
            "-score_time\n",
            "-- [0.0026381  0.00182962 0.0017724  0.0017426  0.00168109 0.00173736\n",
            " 0.00168896]\n",
            "Média do score_time: 0.0018700190952845982\n",
            "Desvio 0.00031700017202064584\n",
            "Intervalo [0.001,0.003]\n",
            "-*--*--*--*--*--*--*--*--*--*--*--*--*--*--*--*--*--*--*--*-\n",
            "-test_accuracy\n",
            "-- [0.82142857 0.82142857 0.71428571 0.77777778 0.74074074 0.66666667\n",
            " 0.44444444]\n",
            "Média do test_accuracy: 0.7123960695389268\n",
            "Desvio 0.12115349386477614\n",
            "Intervalo [0.470,0.955]\n",
            "-*--*--*--*--*--*--*--*--*--*--*--*--*--*--*--*--*--*--*--*-\n",
            "-test_precision_macro\n",
            "-- [0.8368984  0.82307692 0.81818182 0.80555556 0.83333333 0.72857143\n",
            " 0.39583333]\n",
            "Média do test_precision_macro: 0.7487786839677595\n",
            "Desvio 0.14806078025828115\n",
            "Intervalo [0.453,1.045]\n",
            "-*--*--*--*--*--*--*--*--*--*--*--*--*--*--*--*--*--*--*--*-\n",
            "-test_recall_macro\n",
            "-- [0.82142857 0.82142857 0.71428571 0.77197802 0.73076923 0.67582418\n",
            " 0.45879121]\n",
            "Média do test_recall_macro: 0.7135007849293563\n",
            "Desvio 0.11545667823043576\n",
            "Intervalo [0.483,0.944]\n",
            "-*--*--*--*--*--*--*--*--*--*--*--*--*--*--*--*--*--*--*--*-\n"
          ]
        }
      ]
    },
    {
      "cell_type": "markdown",
      "source": [
        "Comparndo as metricas, temos:\n",
        "\n",
        "- naive bayes *sem otimização*:\n",
        "  - acuracia: 0,722\n",
        "  - precisão: 0,754\n",
        "  - recall: 0,724\n",
        "- naive bayes *com grid search*:\n",
        "  - acuracia: 0,712\n",
        "  - precisão: 0,748\n",
        "  - recall: 0,713\n"
      ],
      "metadata": {
        "id": "xrZg2AMJEwa5"
      }
    },
    {
      "cell_type": "markdown",
      "source": [
        "## Aplicando random search"
      ],
      "metadata": {
        "id": "SzQHZKdPFaDH"
      }
    },
    {
      "cell_type": "code",
      "source": [
        "random_search = RandomizedSearchCV(estimator=GaussianNB(),param_distributions=parametros)\n",
        "random_search.fit(x_nm,y_nm)\n",
        "melhores_parametros2 = random_search.best_params_\n",
        "melhor_resultado2 = random_search.best_score_"
      ],
      "metadata": {
        "id": "A4Ne4U42FYr2"
      },
      "execution_count": 32,
      "outputs": []
    },
    {
      "cell_type": "code",
      "source": [
        "print(melhores_parametros2)\n",
        "print(melhor_resultado2)"
      ],
      "metadata": {
        "colab": {
          "base_uri": "https://localhost:8080/"
        },
        "id": "IM6oI7QsFoqe",
        "outputId": "b9094cfa-981e-4fd3-bccf-0c657b57f63e"
      },
      "execution_count": 33,
      "outputs": [
        {
          "output_type": "stream",
          "name": "stdout",
          "text": [
            "{'var_smoothing': 1.0204081632653061}\n",
            "0.6241565452091767\n"
          ]
        }
      ]
    },
    {
      "cell_type": "code",
      "source": [
        "na2 = GaussianNB(var_smoothing=1.0204081632653061)"
      ],
      "metadata": {
        "id": "GiqZrX0GFup4"
      },
      "execution_count": 34,
      "outputs": []
    },
    {
      "cell_type": "code",
      "source": [
        "\n",
        "metricas_ran2 = cross_validate(na2,x_nm, y_nm, cv=7, scoring=nome_metricas)\n",
        "for met in metricas_ran:\n",
        "  print(f'-{met}')\n",
        "  print(f\"-- {metricas_ran2[met]}\")\n",
        "  media = np.mean(metricas_ran2[met])\n",
        "  desvio = np.std(metricas_ran2[met])\n",
        "  print(f'Média do {met}: {media}')\n",
        "  print(f'Desvio {desvio}')\n",
        "  print(f'Intervalo [{(media-(2*desvio)):.3f},{(media+(2*desvio)):.3f}]')\n",
        "  print('-*-'*20)"
      ],
      "metadata": {
        "colab": {
          "base_uri": "https://localhost:8080/"
        },
        "id": "KoQS2DdPF9F0",
        "outputId": "d5b1944d-9f6f-4ea6-a169-4507edffd433"
      },
      "execution_count": 35,
      "outputs": [
        {
          "output_type": "stream",
          "name": "stdout",
          "text": [
            "-fit_time\n",
            "-- [0.00136828 0.00124907 0.00824594 0.00139356 0.00130343 0.00134826\n",
            " 0.00137329]\n",
            "Média do fit_time: 0.0023259775979178293\n",
            "Desvio 0.0024172434846046922\n",
            "Intervalo [-0.003,0.007]\n",
            "-*--*--*--*--*--*--*--*--*--*--*--*--*--*--*--*--*--*--*--*-\n",
            "-score_time\n",
            "-- [0.00338578 0.00456524 0.00357342 0.01053238 0.016397   0.00332665\n",
            " 0.00372267]\n",
            "Média do score_time: 0.006500448499407087\n",
            "Desvio 0.004690429618825776\n",
            "Intervalo [-0.003,0.016]\n",
            "-*--*--*--*--*--*--*--*--*--*--*--*--*--*--*--*--*--*--*--*-\n",
            "-test_accuracy\n",
            "-- [0.78571429 0.67857143 0.64285714 0.7037037  0.62962963 0.55555556\n",
            " 0.44444444]\n",
            "Média do test_accuracy: 0.6343537414965986\n",
            "Desvio 0.10144946365859885\n",
            "Intervalo [0.431,0.837]\n",
            "-*--*--*--*--*--*--*--*--*--*--*--*--*--*--*--*--*--*--*--*-\n",
            "-test_precision_macro\n",
            "-- [0.81111111 0.70467836 0.79166667 0.75357143 0.79166667 0.76\n",
            " 0.39583333]\n",
            "Média do test_precision_macro: 0.7155039384174723\n",
            "Desvio 0.13441820453314032\n",
            "Intervalo [0.447,0.984]\n",
            "-*--*--*--*--*--*--*--*--*--*--*--*--*--*--*--*--*--*--*--*-\n",
            "-test_recall_macro\n",
            "-- [0.78571429 0.67857143 0.64285714 0.69505495 0.61538462 0.57142857\n",
            " 0.45879121]\n",
            "Média do test_recall_macro: 0.6354003139717426\n",
            "Desvio 0.09543591912161029\n",
            "Intervalo [0.445,0.826]\n",
            "-*--*--*--*--*--*--*--*--*--*--*--*--*--*--*--*--*--*--*--*-\n"
          ]
        }
      ]
    },
    {
      "cell_type": "markdown",
      "source": [
        "Comparando , temos:\n",
        "\n",
        "- naive bayes *sem otimização*:\n",
        "  - acuracia: 0,722\n",
        "  - precisão: 0,754\n",
        "  - recall: 0,724\n",
        "- naive bayes *com grid search*:\n",
        "  - acuracia: 0,712\n",
        "  - precisão: 0,748\n",
        "  - recall: 0,713\n",
        "- naive bayes com *random search*:\n",
        "  - acuracia: 0,634\n",
        "  - precisão: 0,715\n",
        "  - recall: 0,635"
      ],
      "metadata": {
        "id": "Huq4A6kJJRPY"
      }
    },
    {
      "cell_type": "markdown",
      "source": [
        "Temos então que os resultados nã foram melhores"
      ],
      "metadata": {
        "id": "akcyvr5qJk_y"
      }
    }
  ]
}