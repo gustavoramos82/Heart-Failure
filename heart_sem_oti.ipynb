{
  "cells": [
    {
      "cell_type": "markdown",
      "metadata": {
        "id": "Llb2c4mrsFQI"
      },
      "source": [
        "# Aplicando os algoritmos de machine learning sem otimização de hiperparametros\n",
        "\n",
        "Neste notebook faremos uma comparação inicial e faremos a comparação sem otimizar no qual com base nos textos de Silva e Mantonani (2020) e Santos *et al* (2019) (link do artigo [aqui](https://www.scielo.br/j/csp/a/jyhKL6G4dZhcbchMD6bcS8s/?format=pdf&lang=pt)) e Gomes(2019) (cujo link pode ser acessado ([aqui](https://www.datageeks.com.br/naive-bayes/))), usaremos esses algoritmos:\n",
        "\n",
        "  - Regressão Logistica;\n",
        "  - Random Forest;\n",
        "  - Árvore de decisão\n",
        "  - Naive Bayes"
      ]
    },
    {
      "cell_type": "code",
      "execution_count": 1,
      "metadata": {
        "id": "3Em-c6Z3sCZN"
      },
      "outputs": [],
      "source": [
        "# Baixando os módulos\n",
        "\n",
        "import numpy as np\n",
        "import pandas as pd\n",
        "from sklearn.model_selection import cross_validate\n",
        "from sklearn.preprocessing import StandardScaler\n",
        "from sklearn.ensemble import RandomForestClassifier\n",
        "from sklearn.tree import DecisionTreeClassifier\n",
        "from imblearn.under_sampling import RandomUnderSampler\n",
        "from sklearn.linear_model import LogisticRegression\n",
        "from sklearn.naive_bayes import GaussianNB\n"
      ]
    },
    {
      "cell_type": "code",
      "execution_count": 2,
      "metadata": {
        "id": "Za_wOoV5uPJr"
      },
      "outputs": [],
      "source": [
        "# Importando o dataset\n",
        "heart_failure = pd.read_csv('heart_failure_clinical_records_dataset.csv')"
      ]
    },
    {
      "cell_type": "code",
      "execution_count": 3,
      "metadata": {
        "colab": {
          "base_uri": "https://localhost:8080/",
          "height": 270
        },
        "id": "fubWrpYYuQwY",
        "outputId": "f0ecdf3c-74ae-47fd-9461-a0be217ee07b"
      },
      "outputs": [
        {
          "data": {
            "text/html": [
              "<div>\n",
              "<style scoped>\n",
              "    .dataframe tbody tr th:only-of-type {\n",
              "        vertical-align: middle;\n",
              "    }\n",
              "\n",
              "    .dataframe tbody tr th {\n",
              "        vertical-align: top;\n",
              "    }\n",
              "\n",
              "    .dataframe thead th {\n",
              "        text-align: right;\n",
              "    }\n",
              "</style>\n",
              "<table border=\"1\" class=\"dataframe\">\n",
              "  <thead>\n",
              "    <tr style=\"text-align: right;\">\n",
              "      <th></th>\n",
              "      <th>age</th>\n",
              "      <th>anaemia</th>\n",
              "      <th>creatinine_phosphokinase</th>\n",
              "      <th>diabetes</th>\n",
              "      <th>ejection_fraction</th>\n",
              "      <th>high_blood_pressure</th>\n",
              "      <th>platelets</th>\n",
              "      <th>serum_creatinine</th>\n",
              "      <th>serum_sodium</th>\n",
              "      <th>sex</th>\n",
              "      <th>smoking</th>\n",
              "      <th>time</th>\n",
              "      <th>DEATH_EVENT</th>\n",
              "    </tr>\n",
              "  </thead>\n",
              "  <tbody>\n",
              "    <tr>\n",
              "      <th>0</th>\n",
              "      <td>75.0</td>\n",
              "      <td>0</td>\n",
              "      <td>582</td>\n",
              "      <td>0</td>\n",
              "      <td>20</td>\n",
              "      <td>1</td>\n",
              "      <td>265000.00</td>\n",
              "      <td>1.9</td>\n",
              "      <td>130</td>\n",
              "      <td>1</td>\n",
              "      <td>0</td>\n",
              "      <td>4</td>\n",
              "      <td>1</td>\n",
              "    </tr>\n",
              "    <tr>\n",
              "      <th>1</th>\n",
              "      <td>55.0</td>\n",
              "      <td>0</td>\n",
              "      <td>7861</td>\n",
              "      <td>0</td>\n",
              "      <td>38</td>\n",
              "      <td>0</td>\n",
              "      <td>263358.03</td>\n",
              "      <td>1.1</td>\n",
              "      <td>136</td>\n",
              "      <td>1</td>\n",
              "      <td>0</td>\n",
              "      <td>6</td>\n",
              "      <td>1</td>\n",
              "    </tr>\n",
              "    <tr>\n",
              "      <th>2</th>\n",
              "      <td>65.0</td>\n",
              "      <td>0</td>\n",
              "      <td>146</td>\n",
              "      <td>0</td>\n",
              "      <td>20</td>\n",
              "      <td>0</td>\n",
              "      <td>162000.00</td>\n",
              "      <td>1.3</td>\n",
              "      <td>129</td>\n",
              "      <td>1</td>\n",
              "      <td>1</td>\n",
              "      <td>7</td>\n",
              "      <td>1</td>\n",
              "    </tr>\n",
              "    <tr>\n",
              "      <th>3</th>\n",
              "      <td>50.0</td>\n",
              "      <td>1</td>\n",
              "      <td>111</td>\n",
              "      <td>0</td>\n",
              "      <td>20</td>\n",
              "      <td>0</td>\n",
              "      <td>210000.00</td>\n",
              "      <td>1.9</td>\n",
              "      <td>137</td>\n",
              "      <td>1</td>\n",
              "      <td>0</td>\n",
              "      <td>7</td>\n",
              "      <td>1</td>\n",
              "    </tr>\n",
              "    <tr>\n",
              "      <th>4</th>\n",
              "      <td>65.0</td>\n",
              "      <td>1</td>\n",
              "      <td>160</td>\n",
              "      <td>1</td>\n",
              "      <td>20</td>\n",
              "      <td>0</td>\n",
              "      <td>327000.00</td>\n",
              "      <td>2.7</td>\n",
              "      <td>116</td>\n",
              "      <td>0</td>\n",
              "      <td>0</td>\n",
              "      <td>8</td>\n",
              "      <td>1</td>\n",
              "    </tr>\n",
              "  </tbody>\n",
              "</table>\n",
              "</div>"
            ],
            "text/plain": [
              "    age  anaemia  creatinine_phosphokinase  diabetes  ejection_fraction  \\\n",
              "0  75.0        0                       582         0                 20   \n",
              "1  55.0        0                      7861         0                 38   \n",
              "2  65.0        0                       146         0                 20   \n",
              "3  50.0        1                       111         0                 20   \n",
              "4  65.0        1                       160         1                 20   \n",
              "\n",
              "   high_blood_pressure  platelets  serum_creatinine  serum_sodium  sex  \\\n",
              "0                    1  265000.00               1.9           130    1   \n",
              "1                    0  263358.03               1.1           136    1   \n",
              "2                    0  162000.00               1.3           129    1   \n",
              "3                    0  210000.00               1.9           137    1   \n",
              "4                    0  327000.00               2.7           116    0   \n",
              "\n",
              "   smoking  time  DEATH_EVENT  \n",
              "0        0     4            1  \n",
              "1        0     6            1  \n",
              "2        1     7            1  \n",
              "3        0     7            1  \n",
              "4        0     8            1  "
            ]
          },
          "execution_count": 3,
          "metadata": {},
          "output_type": "execute_result"
        }
      ],
      "source": [
        "heart_failure.head()"
      ]
    },
    {
      "cell_type": "code",
      "execution_count": 4,
      "metadata": {
        "id": "1x0euTnxudp8"
      },
      "outputs": [],
      "source": [
        "# fazendo as separação dos atributos e do target\n",
        "x = heart_failure.drop(['DEATH_EVENT'],axis=1).values\n",
        "y = heart_failure.DEATH_EVENT.values\n",
        "\n",
        "# Normalizando os dados\n",
        "x_std = StandardScaler().fit_transform(x)"
      ]
    },
    {
      "cell_type": "code",
      "execution_count": 5,
      "metadata": {
        "id": "jeswC0rbu-aJ"
      },
      "outputs": [],
      "source": [
        "# usando o metos undersampling para tornar os dados menos enviesados\n",
        "nm = RandomUnderSampler(random_state = 10)\n",
        "\n",
        "x_nm, y_nm = nm.fit_resample(x_std, y)"
      ]
    },
    {
      "cell_type": "markdown",
      "metadata": {
        "id": "98lwEshQvSZL"
      },
      "source": [
        "Para melhor comparação dos casos é melhor usar o croos validation"
      ]
    },
    {
      "cell_type": "markdown",
      "metadata": {
        "id": "MFuKQqi3zbRm"
      },
      "source": [
        "Com o **random forest**"
      ]
    },
    {
      "cell_type": "code",
      "execution_count": 9,
      "metadata": {
        "colab": {
          "base_uri": "https://localhost:8080/"
        },
        "id": "h29c4m5nvOyk",
        "outputId": "095461be-0742-4c65-ddf4-6868b836f867"
      },
      "outputs": [
        {
          "name": "stdout",
          "output_type": "stream",
          "text": [
            "-fit_time\n",
            "-- [1.20680714 0.50993633 0.79394197 0.69531345 0.6275394  0.43166971\n",
            " 0.93464208]\n",
            "Média do fit_time: 0.7428357260567802\n",
            "Desvio 0.24532457222790138\n",
            "Intervalo [0.252,1.233]\n",
            "-*--*--*--*--*--*--*--*--*--*--*--*--*--*--*--*--*--*--*--*-\n",
            "-score_time\n",
            "-- [0.05194736 0.02687073 0.08142519 0.08780575 0.03523445 0.04851747\n",
            " 0.08391786]\n",
            "Média do score_time: 0.05938839912414551\n",
            "Desvio 0.023019304392629905\n",
            "Intervalo [0.013,0.105]\n",
            "-*--*--*--*--*--*--*--*--*--*--*--*--*--*--*--*--*--*--*--*-\n",
            "-test_accuracy\n",
            "-- [0.92857143 0.75       0.96428571 0.88888889 0.81481481 0.59259259\n",
            " 0.37037037]\n",
            "Média do test_accuracy: 0.7585034013605442\n",
            "Desvio 0.19628215801377444\n",
            "Intervalo [0.366,1.151]\n",
            "-*--*--*--*--*--*--*--*--*--*--*--*--*--*--*--*--*--*--*--*-\n",
            "-test_precision_macro\n",
            "-- [0.9375     0.83333333 0.96666667 0.89010989 0.83235294 0.67272727\n",
            " 0.30454545]\n",
            "Média do test_precision_macro: 0.7767479369370126\n",
            "Desvio 0.2120817189702005\n",
            "Intervalo [0.353,1.201]\n",
            "-*--*--*--*--*--*--*--*--*--*--*--*--*--*--*--*--*--*--*--*-\n",
            "-test_recall_macro\n",
            "-- [0.92857143 0.75       0.96428571 0.89010989 0.81043956 0.6043956\n",
            " 0.38186813]\n",
            "Média do test_recall_macro: 0.7613814756671898\n",
            "Desvio 0.19157422681440253\n",
            "Intervalo [0.378,1.145]\n",
            "-*--*--*--*--*--*--*--*--*--*--*--*--*--*--*--*--*--*--*--*-\n"
          ]
        }
      ],
      "source": [
        "nome_metricas = ['accuracy', 'precision_macro', 'recall_macro']\n",
        "ran_f = RandomForestClassifier()\n",
        "metricas_ran = cross_validate(ran_f,x_nm, y_nm, cv=7, scoring=nome_metricas)\n",
        "for met in metricas_ran:\n",
        "  print(f'-{met}')\n",
        "  print(f\"-- {metricas_ran[met]}\")\n",
        "  media = np.mean(metricas_ran[met])\n",
        "  desvio = np.std(metricas_ran[met])\n",
        "  print(f'Média do {met}: {media}')\n",
        "  print(f'Desvio {desvio}')\n",
        "  print(f'Intervalo [{(media-(2*desvio)):.3f},{(media+(2*desvio)):.3f}]')\n",
        "  print('-*-'*20)\n",
        "    \n",
        "    \n",
        "    "
      ]
    },
    {
      "cell_type": "markdown",
      "metadata": {
        "id": "3umezGw3zmrO"
      },
      "source": [
        "Com a **regressão logistica**"
      ]
    },
    {
      "cell_type": "code",
      "execution_count": 10,
      "metadata": {
        "colab": {
          "base_uri": "https://localhost:8080/"
        },
        "id": "JezHlCBJzlGi",
        "outputId": "909ea5a0-f22d-4151-c56c-536ea7213873"
      },
      "outputs": [
        {
          "name": "stdout",
          "output_type": "stream",
          "text": [
            "-fit_time\n",
            "-- [0.04392529 0.06272602 0.02208209 0.02948904 0.06744552 0.03219843\n",
            " 0.030617  ]\n",
            "Média do fit_time: 0.041211911610194614\n",
            "Desvio 0.01628010240049033\n",
            "Intervalo [0.009,0.074]\n",
            "-*--*--*--*--*--*--*--*--*--*--*--*--*--*--*--*--*--*--*--*-\n",
            "-score_time\n",
            "-- [0.00524735 0.07394409 0.0312252  0.00401688 0.00440645 0.02577615\n",
            " 0.04189324]\n",
            "Média do score_time: 0.026644195829119\n",
            "Desvio 0.023772404240376577\n",
            "Intervalo [-0.021,0.074]\n",
            "-*--*--*--*--*--*--*--*--*--*--*--*--*--*--*--*--*--*--*--*-\n",
            "-test_accuracy\n",
            "-- [0.85714286 0.85714286 0.82142857 0.81481481 0.85185185 0.81481481\n",
            " 0.25925926]\n",
            "Média do test_accuracy: 0.7537792894935753\n",
            "Desvio 0.20268322859422153\n",
            "Intervalo [0.348,1.159]\n",
            "-*--*--*--*--*--*--*--*--*--*--*--*--*--*--*--*--*--*--*--*-\n",
            "-test_precision_macro\n",
            "-- [0.85714286 0.88888889 0.8368984  0.82954545 0.85833333 0.81666667\n",
            " 0.22039474]\n",
            "Média do test_precision_macro: 0.7582671904487472\n",
            "Desvio 0.22065888058465122\n",
            "Intervalo [0.317,1.200]\n",
            "-*--*--*--*--*--*--*--*--*--*--*--*--*--*--*--*--*--*--*--*-\n",
            "-test_recall_macro\n",
            "-- [0.85714286 0.85714286 0.82142857 0.81868132 0.8543956  0.81318681\n",
            " 0.26648352]\n",
            "Média do test_recall_macro: 0.7554945054945054\n",
            "Desvio 0.20044458667856005\n",
            "Intervalo [0.355,1.156]\n",
            "-*--*--*--*--*--*--*--*--*--*--*--*--*--*--*--*--*--*--*--*-\n"
          ]
        }
      ],
      "source": [
        "lg = LogisticRegression()\n",
        "metricas_lg = cross_validate(lg, x_nm, y_nm, cv=7, scoring=nome_metricas)\n",
        "for met in metricas_ran:\n",
        "  print(f'-{met}')\n",
        "  print(f\"-- {metricas_lg[met]}\")\n",
        "  media = np.mean(metricas_lg[met])\n",
        "  desvio = np.std(metricas_lg[met])\n",
        "  print(f'Média do {met}: {media}')\n",
        "  print(f'Desvio {desvio}')\n",
        "  print(f'Intervalo [{(media-(2*desvio)):.3f},{(media+(2*desvio)):.3f}]')\n",
        "  print('-*-'*20)"
      ]
    },
    {
      "cell_type": "markdown",
      "metadata": {
        "id": "P2fYXkjD10b6"
      },
      "source": [
        "Com **Árvore de Decisão**"
      ]
    },
    {
      "cell_type": "code",
      "execution_count": 11,
      "metadata": {
        "colab": {
          "base_uri": "https://localhost:8080/"
        },
        "id": "LadO9jYD05Wz",
        "outputId": "3bff6a8c-e340-4262-fafd-33436c1dbb40"
      },
      "outputs": [
        {
          "name": "stdout",
          "output_type": "stream",
          "text": [
            "-fit_time\n",
            "-- [0.01062226 0.0019784  0.0019002  0.01000977 0.01555157 0.00178647\n",
            " 0.00178361]\n",
            "Média do fit_time: 0.006233181272234235\n",
            "Desvio 0.005302409365825808\n",
            "Intervalo [-0.004,0.017]\n",
            "-*--*--*--*--*--*--*--*--*--*--*--*--*--*--*--*--*--*--*--*-\n",
            "-score_time\n",
            "-- [0.01009369 0.03026152 0.00400758 0.00413918 0.00434589 0.00376868\n",
            " 0.01666379]\n",
            "Média do score_time: 0.010468619210379464\n",
            "Desvio 0.009215384709685867\n",
            "Intervalo [-0.008,0.029]\n",
            "-*--*--*--*--*--*--*--*--*--*--*--*--*--*--*--*--*--*--*--*-\n",
            "-test_accuracy\n",
            "-- [0.96428571 0.67857143 0.78571429 0.96296296 0.74074074 0.74074074\n",
            " 0.44444444]\n",
            "Média do test_accuracy: 0.7596371882086167\n",
            "Desvio 0.16498254430621168\n",
            "Intervalo [0.430,1.090]\n",
            "-*--*--*--*--*--*--*--*--*--*--*--*--*--*--*--*--*--*--*--*-\n",
            "-test_precision_macro\n",
            "-- [0.96666667 0.80434783 0.79166667 0.96428571 0.75294118 0.77777778\n",
            " 0.39583333]\n",
            "Média do test_precision_macro: 0.7790741658982433\n",
            "Desvio 0.17641256129522997\n",
            "Intervalo [0.426,1.132]\n",
            "-*--*--*--*--*--*--*--*--*--*--*--*--*--*--*--*--*--*--*--*-\n",
            "-test_recall_macro\n",
            "-- [0.96428571 0.67857143 0.78571429 0.96428571 0.73626374 0.74725275\n",
            " 0.45879121]\n",
            "Média do test_recall_macro: 0.7621664050235479\n",
            "Desvio 0.16132351181589014\n",
            "Intervalo [0.440,1.085]\n",
            "-*--*--*--*--*--*--*--*--*--*--*--*--*--*--*--*--*--*--*--*-\n"
          ]
        }
      ],
      "source": [
        "tree = DecisionTreeClassifier()\n",
        "metricas_tree = cross_validate(tree, x_nm, y_nm, cv=7, scoring=nome_metricas)\n",
        "for met in metricas_ran:\n",
        "  print(f'-{met}')\n",
        "  print(f\"-- {metricas_tree[met]}\")\n",
        "  media = np.mean(metricas_tree[met])\n",
        "  desvio = np.std(metricas_tree[met])\n",
        "  print(f'Média do {met}: {media}')\n",
        "  print(f'Desvio {desvio}')\n",
        "  print(f'Intervalo [{(media-(2*desvio)):.3f},{(media+(2*desvio)):.3f}]')\n",
        "  print('-*-'*20)"
      ]
    },
    {
      "cell_type": "markdown",
      "metadata": {},
      "source": [
        "Com **naive bayes**"
      ]
    },
    {
      "cell_type": "code",
      "execution_count": 12,
      "metadata": {},
      "outputs": [
        {
          "name": "stdout",
          "output_type": "stream",
          "text": [
            "-fit_time\n",
            "-- [0.01180196 0.00197887 0.00205159 0.00183249 0.00205421 0.00233746\n",
            " 0.00320315]\n",
            "Média do fit_time: 0.0036085333142961773\n",
            "Desvio 0.003371356016957434\n",
            "Intervalo [-0.003,0.010]\n",
            "-*--*--*--*--*--*--*--*--*--*--*--*--*--*--*--*--*--*--*--*-\n",
            "-score_time\n",
            "-- [0.01511526 0.01736617 0.00915122 0.01333308 0.02234674 0.0141716\n",
            " 0.00491762]\n",
            "Média do score_time: 0.013771670205252511\n",
            "Desvio 0.005187243211727063\n",
            "Intervalo [0.003,0.024]\n",
            "-*--*--*--*--*--*--*--*--*--*--*--*--*--*--*--*--*--*--*--*-\n",
            "-test_accuracy\n",
            "-- [0.82142857 0.82142857 0.71428571 0.81481481 0.77777778 0.66666667\n",
            " 0.44444444]\n",
            "Média do test_accuracy: 0.7229780801209372\n",
            "Desvio 0.12629303220918986\n",
            "Intervalo [0.470,0.976]\n",
            "-*--*--*--*--*--*--*--*--*--*--*--*--*--*--*--*--*--*--*--*-\n",
            "-test_precision_macro\n",
            "-- [0.8368984  0.82307692 0.81818182 0.83235294 0.85       0.72857143\n",
            " 0.39583333]\n",
            "Média do test_precision_macro: 0.7549878342945568\n",
            "Desvio 0.15120534624477971\n",
            "Intervalo [0.453,1.057]\n",
            "-*--*--*--*--*--*--*--*--*--*--*--*--*--*--*--*--*--*--*--*-\n",
            "-test_recall_macro\n",
            "-- [0.82142857 0.82142857 0.71428571 0.81043956 0.76923077 0.67582418\n",
            " 0.45879121]\n",
            "Média do test_recall_macro: 0.7244897959183675\n",
            "Desvio 0.1202684937792529\n",
            "Intervalo [0.484,0.965]\n",
            "-*--*--*--*--*--*--*--*--*--*--*--*--*--*--*--*--*--*--*--*-\n"
          ]
        }
      ],
      "source": [
        "naive = GaussianNB()\n",
        "metricas_naive = cross_validate(naive, x_nm, y_nm, cv=7, scoring=nome_metricas)\n",
        "for met in metricas_ran:\n",
        "  print(f'-{met}')\n",
        "  print(f\"-- {metricas_naive[met]}\")\n",
        "  media = np.mean(metricas_naive[met])\n",
        "  desvio = np.std(metricas_naive[met])\n",
        "  print(f'Média do {met}: {media}')\n",
        "  print(f'Desvio {desvio}')\n",
        "  print(f'Intervalo [{(media-(2*desvio)):.3f},{(media+(2*desvio)):.3f}]')\n",
        "  print('-*-'*20)"
      ]
    },
    {
      "cell_type": "markdown",
      "metadata": {
        "id": "G3m2a_382rML"
      },
      "source": [
        "Com esses resultados, temos que: \n",
        "\n",
        "- Com **random forest** tivemos  \n",
        "    - acuracia: 0,758\n",
        "    - precisão: 0,776\n",
        "    - recall: 0,761\n",
        "\n",
        "- Com  a **regressão logistica** tivemos:\n",
        "  - acuracia: 0,753\n",
        "  - precisão: 0,758\n",
        "  - recall: 0,755\n",
        "\n",
        "- Com a **árvore de decisão**:\n",
        "  - acuracia: 0,759\n",
        "  - precisão: 0,779\n",
        "  - recall: 0,762\n",
        "\n",
        "- Com **naive bayes**:\n",
        "  - acuracia: 0,722\n",
        "  - precisão: 0,754\n",
        "  - recall: 0,724"
      ]
    },
    {
      "cell_type": "markdown",
      "metadata": {},
      "source": [
        "Com esses resultados, temos que:\n",
        "    - A árvore de decisão foi o que teve melhor perfomace, muito próximo a ele foi o random forest;\n",
        "    - To os valores estão acima de 70%;\n",
        "    - Naive bayes foi o que teve a pior perfomace;\n",
        "\n",
        "Com isso veremos se com a otimização dos hiperparametros os valores podem ser maiores"
      ]
    }
  ],
  "metadata": {
    "colab": {
      "name": "heart sem oti.ipynb",
      "provenance": []
    },
    "interpreter": {
      "hash": "47f325e4dc201893daa5bfc21d6e0550aa455e6eede69b1a58a5614a1365b691"
    },
    "kernelspec": {
      "display_name": "Python 3.9.7 ('base')",
      "language": "python",
      "name": "python3"
    },
    "language_info": {
      "codemirror_mode": {
        "name": "ipython",
        "version": 3
      },
      "file_extension": ".py",
      "mimetype": "text/x-python",
      "name": "python",
      "nbconvert_exporter": "python",
      "pygments_lexer": "ipython3",
      "version": "3.9.7"
    }
  },
  "nbformat": 4,
  "nbformat_minor": 0
}
